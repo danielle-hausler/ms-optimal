{
 "cells": [
  {
   "cell_type": "code",
   "execution_count": 1,
   "id": "93a168f6-5f07-44c4-846e-13bb4ba9283d",
   "metadata": {},
   "outputs": [],
   "source": [
    "%load_ext autoreload\n",
    "%autoreload 2\n",
    "\n",
    "import sys\n",
    "import os\n",
    "\n",
    "sys.path.append(os.path.dirname(os.getcwd()))\n",
    "\n",
    "import warnings\n",
    "import matplotlib.pyplot as plt\n",
    "import pandas as pd \n",
    "\n",
    "from experiment.run_experiment import run_experiment, Config \n",
    "from dataset.gen_dataset import SynthConfig, LibsvmConfig\n",
    "from algorithms.ms_algorithm import MSBisectionConfig, MSNoBisectionConfig\n",
    "from algorithms.acr import ACRConfig\n",
    "from algorithms.adaptive_acr import AdaptiveACRConfig\n",
    "from algorithms.newton import NewtonMethodConfig\n",
    "from algorithms.gradient_descent import GDConfig\n",
    "from algorithms.AGD import AGDConfig\n",
    "from algorithms.scipy_optimizer import ScipyOptimizerConfig\n",
    "\n",
    "warnings.filterwarnings('ignore')\n",
    "pd.options.display.max_columns = 40\n",
    "pd.options.display.max_rows = 200\n"
   ]
  },
  {
   "cell_type": "markdown",
   "id": "7f54d845-4cb3-4c92-a3d2-378ba38a3d27",
   "metadata": {},
   "source": [
    "## Configs of second-order and first-order methods: "
   ]
  },
  {
   "cell_type": "markdown",
   "id": "c5cf820c-c0fa-4124-b6f8-32ee18873566",
   "metadata": {},
   "source": [
    "Important Config args: \n",
    "* iteration_budget - how many iterations to run (default = 250)\n",
    "* objective_type - the objective we solve (default = \"logistic_regression\", for worst-case experiments use \"gen_chain\")\n",
    "* algorithm - possible choices: \n",
    "[\"opt_ms_algorithm\", \"ms_algorithm\", \"newton_method\", \"acr\", \"adaptive_acr\", \"GD\", \"AGD\", \"scipy_optimizer\"]\n",
    "* algorithm_config - appropriate configuration for the algorithm (see example below)\n",
    "* dataset - defines the dataset function to use (default is \"libsvm\")\n",
    "* dataset_config -  appropriate configuration for the dataset function (see example below)"
   ]
  },
  {
   "cell_type": "code",
   "execution_count": 2,
   "id": "26d5ab4d-f148-408d-b1b8-123fc061a487",
   "metadata": {},
   "outputs": [],
   "source": [
    "dataset_name=\"a9a\"  # can replace with \"splice\" and \"w8a\" for other libsvm datasets\n",
    "dataset_config=LibsvmConfig(dataset_name=dataset_name)\n",
    "\n",
    "# for the synthetic dataset use: \n",
    "# dataset = \"Synth\"\n",
    "# dataset_config = SynthConfig()\n",
    "\n",
    "#### config examples: \n",
    "\n",
    "######### our methods ############# \n",
    "\n",
    "# alg1 + second-order adaptive oracle config\n",
    "alg1_adaptive_config = Config(dataset_config= dataset_config, \n",
    "                              algorithm=\"opt_ms_algorithm\", algorithm_config=MSNoBisectionConfig(lazy_oracle=True))\n",
    "\n",
    "# iterating second-order adaptive oracle config \n",
    "iterating_adaptive_config = Config(dataset_config= dataset_config, \n",
    "                                   algorithm=\"opt_ms_algorithm\", \n",
    "                                   algorithm_config=MSNoBisectionConfig(drop_momentum=True, lambda_func=\"previous_lambda\", alpha=0.5)\n",
    "                                  )\n",
    "\n",
    "# alg1 + first order adaptive oracle config\n",
    "alg1_fo_adaptive_config = Config(dataset_config= dataset_config, algorithm=\"opt_ms_algorithm\", \n",
    "                                 algorithm_config=MSNoBisectionConfig(oracle_type=\"amsn_fo_oracle\", lazy_oracle=True))\n",
    "\n",
    "# iterating first-order adaptive oracle config \n",
    "iterating_fo_adaptive_config = Config(dataset_config= dataset_config, algorithm=\"opt_ms_algorithm\", \n",
    "                                      algorithm_config=MSNoBisectionConfig(oracle_type=\"amsn_fo_oracle\", \n",
    "                                                                           drop_momentum=True, lambda_func=\"previous_lambda\", alpha=0.5)\n",
    "                                     )\n",
    "\n",
    "\n",
    "######### non adaptive second-order methods ##########\n",
    "\n",
    "# Song et al. : \n",
    "song_config = Config(\n",
    "    dataset_config= dataset_config,\n",
    "    algorithm=\"opt_ms_algorithm\",\n",
    "    algorithm_config=MSNoBisectionConfig(A_prime=False, lambda_func=\"lower_A_bound\", oracle_type=\"cr_oracle\", \n",
    "                                         exact_first_bisection=False, sec_ord_smoothness=0.1)\n",
    ")\n",
    "\n",
    "# Song et al. with exact first bisection: \n",
    "song_exact_first_config = Config(\n",
    "    dataset_config= dataset_config,\n",
    "    algorithm=\"opt_ms_algorithm\",\n",
    "    algorithm_config=MSNoBisectionConfig(A_prime=False, lambda_func=\"lower_A_bound\", oracle_type=\"cr_oracle\", \n",
    "                                         sec_ord_smoothness=0.1)\n",
    ")\n",
    "\n",
    "# ACR config\n",
    "acr_config = Config(dataset_config= dataset_config, algorithm=\"acr\", algorithm_config=ACRConfig(sec_ord_smoothness=0.1))\n",
    "\n",
    "# CR config\n",
    "cr_config = Config(\n",
    "    dataset_config= dataset_config,\n",
    "    algorithm=\"opt_ms_algorithm\",\n",
    "    algorithm_config=MSNoBisectionConfig(drop_momentum=True, oracle_type=\"cr_oracle\", sec_ord_smoothness=0.1)\n",
    ")\n",
    "\n",
    "# alg 0. + cr oracle config\n",
    "alg0_cr_config = Config(dataset_config= dataset_config, algorithm=\"ms_algorithm\", \n",
    "                        algorithm_config=MSBisectionConfig(oracle_type=\"cr_oracle\", sec_ord_smoothness=0.1))\n",
    "\n",
    "# alg 1. + cr oracle config\n",
    "alg1_cr_config = Config(dataset_config= dataset_config, algorithm=\"opt_ms_algorithm\", \n",
    "                        algorithm_config=MSNoBisectionConfig(oracle_type=\"cr_oracle\", sec_ord_smoothness=0.1))\n",
    "\n",
    "# to change the M parameter of the \"cr_oracle\": \n",
    "# change sec_ord_smoothness in the algorithm_config, for example: \n",
    "# config = Config(\n",
    "#     algorithm=\"opt_ms_algorithm\", \n",
    "#     algorithm_config=MSNoBisectionConfig(\n",
    "#         oracle_type=\"cr_oracle\", \n",
    "#         sec_ord_smoothness=0.001\n",
    "#     ))\n",
    "\n",
    "######### adaptive second-order methods ##########\n",
    "\n",
    "\n",
    "# adaptive acr config\n",
    "adaptive_acr_config = Config(dataset_config= dataset_config, \n",
    "                             algorithm=\"adaptive_acr\", algorithm_config=AdaptiveACRConfig())\n",
    "\n",
    "# alg 0. + adaptive oracle config\n",
    "alg0_adaptive_config = Config(dataset_config= dataset_config, \n",
    "                              algorithm=\"ms_algorithm\", algorithm_config=MSBisectionConfig())\n",
    "\n",
    "\n",
    "\n",
    "# Newton's method config \n",
    "newton_config = Config(dataset_config= dataset_config, \n",
    "                       algorithm=\"newton_method\",algorithm_config=NewtonMethodConfig())\n",
    "\n",
    "\n",
    "\n",
    "\n",
    "\n",
    "######### first-order methods ##########\n",
    "\n",
    "# gradient descent config \n",
    "gd_config = Config(dataset_config= dataset_config, \n",
    "                   algorithm=\"GD\",algorithm_config=GDConfig(step_size=30))\n",
    "\n",
    "# AGD config \n",
    "agd_config = Config(dataset_config= dataset_config, \n",
    "                    algorithm=\"AGD\",algorithm_config=AGDConfig(step_size=10))\n",
    "\n",
    "\n",
    "# lbfgs config \n",
    "lbfgs_config  = Config(dataset_config= dataset_config, algorithm=\"scipy_optimizer\", \n",
    "                       algorithm_config=ScipyOptimizerConfig())\n"
   ]
  },
  {
   "cell_type": "code",
   "execution_count": 3,
   "id": "6aac0f78-a88b-4203-8840-de6b5bef473d",
   "metadata": {},
   "outputs": [],
   "source": [
    "config = alg1_adaptive_config\n",
    "config.iteration_budget = 50"
   ]
  },
  {
   "cell_type": "markdown",
   "id": "13127ab8-e257-4830-bb90-c7569a26a760",
   "metadata": {},
   "source": [
    "## Run experiment: "
   ]
  },
  {
   "cell_type": "markdown",
   "id": "a17061bd-6da3-442b-96a4-5b26ffaaeb84",
   "metadata": {},
   "source": [
    "the run_experiment function will create an \"experiment_results\" directory and save the experiments outputs there"
   ]
  },
  {
   "cell_type": "code",
   "execution_count": 4,
   "id": "7cbf46e3-1269-4e63-8a82-c46ae4f9eb39",
   "metadata": {},
   "outputs": [],
   "source": [
    "# if you dont want to save the results run this cell \n",
    "save_experiments = False \n",
    "if not save_experiments: \n",
    "    config.save_results = False"
   ]
  },
  {
   "cell_type": "code",
   "execution_count": 5,
   "id": "b71f4c38-eb1e-4e5f-b01a-5cc6bb54326a",
   "metadata": {
    "tags": []
   },
   "outputs": [
    {
     "name": "stderr",
     "output_type": "stream",
     "text": [
      "2022-05-28 21:02:08.224 | INFO     | experiment.run_experiment:run_experiment:58 - running experiment: Config(description='', output_dir='../experiments_results', save_results=False, dataset='libsvm', sampling_seed=4, dataset_config=LibsvmConfig(dataset_name='a9a', dataset_size=None, dataset_root=None, dataset_seed=3, train=True), normalize_features=True, objective_type='logistic_regression', regularization=0.0, dim=200, iteration_budget=50, algorithm='opt_ms_algorithm', algorithm_config=MSNoBisectionConfig(lambda_func='halving_doubling', alpha=2, norm_x_opt=None, first_lambda_guess=0.1, drop_momentum=False, stop_loss=100000.0, min_grad_norm=1e-15, exact_first_bisection=True, first_order_complexity_budget=10000000000.0, oracle_type='amsn', sigma=0.5, lazy_oracle=True, sec_ord_smoothness=None, cr_oracle_accuracy=1e-05, mul_up=2, mul_down=2, lambda_newton=1e-10, A_prime=True, best_x_update=False), logger_level='INFO', test_size=0)\n",
      "2022-05-28 21:02:08.244 | INFO     | experiment.run_experiment:run_experiment:86 - test-set size = 0\n"
     ]
    },
    {
     "name": "stdout",
     "output_type": "stream",
     "text": [
      "Dataset: a9a\n"
     ]
    },
    {
     "name": "stderr",
     "output_type": "stream",
     "text": [
      "2022-05-28 21:02:08.735 | INFO     | algorithms.ms_algorithm:opt_ms_algorithm:237 - first order complexity = 134\n",
      "2022-05-28 21:02:08.736 | INFO     | algorithms.ms_algorithm:opt_ms_algorithm:238 - running iteration 20,  loss:0.32304426604197006, gradient norm: 6.485095555890941e-05, 1/A=6.681536389011508e-06\n",
      "2022-05-28 21:02:09.299 | INFO     | algorithms.ms_algorithm:opt_ms_algorithm:237 - first order complexity = 343\n",
      "2022-05-28 21:02:09.300 | INFO     | algorithms.ms_algorithm:opt_ms_algorithm:238 - running iteration 40,  loss:0.32266885515788335, gradient norm: 1.223641125914748e-05, 1/A=7.687607819225884e-07\n"
     ]
    }
   ],
   "source": [
    "x, outputs = run_experiment(config)"
   ]
  },
  {
   "cell_type": "markdown",
   "id": "5ff32acf-2711-49a8-953a-92bcafd49c84",
   "metadata": {},
   "source": [
    "## Experiment outputs dataframe: "
   ]
  },
  {
   "cell_type": "code",
   "execution_count": 6,
   "id": "c6595e7a-fcc8-4cb0-b73f-f91d9c35232d",
   "metadata": {},
   "outputs": [],
   "source": [
    "# this dataframe contains logs from the main algorithm and from other inner functions\n",
    "# to get only the relevant rows run this cell \n",
    "outputs = outputs.query('iteration_type.str.contains(\"outer\")')"
   ]
  },
  {
   "cell_type": "code",
   "execution_count": 7,
   "id": "21ae6500-dc0c-49db-8c83-9dbe75bc20ac",
   "metadata": {},
   "outputs": [],
   "source": [
    "# important columns for second-order methods are: \n",
    "sec_order_columns =  [ \"loss\", 'number_of_hessian_computations', 'number_of_linear_system_solves', 'method_name', 'grad_norm'] \n",
    "results_second_order = outputs[sec_order_columns]"
   ]
  },
  {
   "cell_type": "code",
   "execution_count": 8,
   "id": "8d3fc657-d71f-4b09-a4ad-2385e0d71218",
   "metadata": {},
   "outputs": [],
   "source": [
    "# for first-order methods: \n",
    "outputs = outputs.assign(firstorder_complexity = lambda df: df.number_of_hvp_computations + df.number_of_grad_computations + \n",
    "                         df.number_of_fn_computations)\n",
    "\n",
    "results_first_order=outputs[['loss', 'firstorder_complexity', 'method_name', 'grad_norm']]"
   ]
  },
  {
   "cell_type": "markdown",
   "id": "bd54da8f-d2dc-4a51-a596-ff81a0d9e88b",
   "metadata": {},
   "source": [
    "## Plot the norm of the gradient: "
   ]
  },
  {
   "cell_type": "code",
   "execution_count": 9,
   "id": "7a90aa37-5528-4580-8b27-4f47c44d548f",
   "metadata": {},
   "outputs": [
    {
     "data": {
      "image/png": "[encoded data removed]",
      "text/plain": [
       "<Figure size 432x288 with 1 Axes>"
      ]
     },
     "metadata": {
      "needs_background": "light"
     },
     "output_type": "display_data"
    }
   ],
   "source": [
    "y = 'grad_norm'\n",
    "y_label = 'gradient norm'\n",
    "x = 'number_of_hessian_computations'\n",
    "x_label = 'Hessian evaluations'\n",
    "plt.plot(results_second_order[x], results_second_order[y])\n",
    "plt.title(results_second_order['method_name'].unique()[0] + ': ' + y_label)\n",
    "plt.yscale('log')\n",
    "plt.xlabel(x_label)\n",
    "plt.ylabel(y_label)\n",
    "plt.show()"
   ]
  }
 ],
 "metadata": {
  "kernelspec": {
   "display_name": "Python 3 (ipykernel)",
   "language": "python",
   "name": "python3"
  },
  "language_info": {
   "codemirror_mode": {
    "name": "ipython",
    "version": 3
   },
   "file_extension": ".py",
   "mimetype": "text/x-python",
   "name": "python",
   "nbconvert_exporter": "python",
   "pygments_lexer": "ipython3",
   "version": "3.9.10"
  }
 },
 "nbformat": 4,
 "nbformat_minor": 5
}